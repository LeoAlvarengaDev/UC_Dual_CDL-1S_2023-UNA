{
  "nbformat": 4,
  "nbformat_minor": 0,
  "metadata": {
    "colab": {
      "provenance": [],
      "mount_file_id": "12u9KpqpNEmh3uFxg2rUpJQpBbBdD7rLJ",
      "authorship_tag": "ABX9TyMzjvTywQ18EXNASAV0czff",
      "include_colab_link": true
    },
    "kernelspec": {
      "name": "python3",
      "display_name": "Python 3"
    },
    "language_info": {
      "name": "python"
    }
  },
  "cells": [
    {
      "cell_type": "markdown",
      "metadata": {
        "id": "view-in-github",
        "colab_type": "text"
      },
      "source": [
        "<a href=\"https://colab.research.google.com/github/LeoAlvarengaDev/UC_Dual_CDL-1S_2023-UNA/blob/main/base_Dados.ipynb\" target=\"_parent\"><img src=\"https://colab.research.google.com/assets/colab-badge.svg\" alt=\"Open In Colab\"/></a>"
      ]
    },
    {
      "cell_type": "code",
      "execution_count": 2,
      "metadata": {
        "id": "xfcrmqy2xkLJ"
      },
      "outputs": [],
      "source": [
        "# Bibliotecas\n",
        "import pandas as pd\n",
        "import re\n",
        "from pandas.core import apply\n",
        "import numpy as np"
      ]
    },
    {
      "cell_type": "code",
      "source": [
        "# Definindo uma funação para realizar a criacão de data frames\n",
        "def leitura_data(data_frame,index):\n",
        "    '''\n",
        "    O parâmetro data_frame especifica o nome ou caminho do arquivo Excel a ser lido.\n",
        "    O parâmetro index determina a coluna do DataFrame que será utilizada como índice.\n",
        "    '''\n",
        "    df = pd.read_excel(data_frame,index_col=index)\n",
        "    df = df.drop(2,axis=index)\n",
        "    return df"
      ],
      "metadata": {
        "id": "VJWyjVMIyF8R"
      },
      "execution_count": 57,
      "outputs": []
    },
    {
      "cell_type": "code",
      "source": [
        "# Definindo uma função para remolver os numeros e parenteses da coluna tipo\n",
        "def limpa_tipo(data_frame,coluna):\n",
        "    '''\n",
        "    O parâmetro coluna especifica a coluna do DataFrame onde será feita a remoção.\n",
        "    '''\n",
        "    data_frame[coluna] = data_frame[coluna].str.replace('\\d+|\\(|\\)','', regex=True)\n",
        "    return data_frame"
      ],
      "metadata": {
        "id": "daWVyiD4cwy7"
      },
      "execution_count": 58,
      "outputs": []
    },
    {
      "cell_type": "code",
      "source": [
        "# Definindo uma função para extrair o endereço\n",
        "def extrair_endereco(coluna):\n",
        "    '''\n",
        "    O parâmetro coluna especifica a coluna do DataFrame onde será feita a extração.\n",
        "    '''\n",
        "    padrao = r'\\d{5}-\\d{3}' # Expressão regular para encontrar o CEP\n",
        "    match = re.search(padrao, coluna)\n",
        "    if match is not None:\n",
        "        cep = match.group()\n",
        "        data_frame = coluna.split(cep)[0].strip() + cep# Separando o endereço e removendo espaços desnecessários\n",
        "        return data_frame\n",
        "    else:\n",
        "        return ''"
      ],
      "metadata": {
        "id": "MCYL38BxjdZX"
      },
      "execution_count": 56,
      "outputs": []
    },
    {
      "cell_type": "code",
      "source": [
        "# Função para extrair os horarios de doimgo até sexta\n",
        "def extrair_horarios(string,dia,proximo):\n",
        "    if isinstance(string, str) and dia in string:\n",
        "        horarios = string.split(dia)[1].split(proximo)[0].strip()\n",
        "        return horarios\n",
        "    else:\n",
        "        return ''\n",
        "\n",
        "# Função para extrair os horarios de sábado\n",
        "def extrair_sabado(string):\n",
        "    if isinstance(string, str) and 'sábado' in string:\n",
        "        horarios = string.split('sábado')[1].strip()\n",
        "        return horarios\n",
        "    else:\n",
        "        return ''\n",
        "\n",
        "# Função utilizada para realizar o tratamento da coluna horarios\n",
        "def separa_horarios(df):\n",
        "  dias_semana = ['domingo','segunda-feira','terça-feira','quarta-feira','quinta-feira','sexta-feira','sábado']\n",
        "  for i in range(len(dias_semana)):\n",
        "    if i < 6 :\n",
        "      df[dias_semana[i]] = df['horarios'].apply(lambda x: extrair_horarios(x, dias_semana[i],dias_semana[i+1]))\n",
        "    else:\n",
        "      df['sábado'] = df['horarios'].apply(extrair_sabado)\n",
        "  return df"
      ],
      "metadata": {
        "id": "MVSRUIrZxp-X"
      },
      "execution_count": 27,
      "outputs": []
    },
    {
      "cell_type": "code",
      "source": [
        "# Definindo um função para salvar os arquivos\n",
        "def salva(df, nome):\n",
        "  '''O parâmetro nome determina qual será o nome utilizado para salvar o arquivo'''\n",
        "  return df.to_excel(nome)"
      ],
      "metadata": {
        "id": "Dofuq4M1ukYE"
      },
      "execution_count": 28,
      "outputs": []
    },
    {
      "cell_type": "code",
      "source": [
        "# Função para extrair informações de um DataFrame\n",
        "def extrair(df,coluna_df,pesquisa,nova_coluna,preechimento):\n",
        "  '''O parâmetro coluna_df especifica a coluna do DataFrame onde será feita a busca.\n",
        "\n",
        "  O parâmetro pesquisa determina o critério de busca para selecionar as linhas do DataFrame.\n",
        "\n",
        "  O parâmetro nova_coluna indica a coluna do DataFrame onde os valores extraídos serão armazenados.\n",
        "\n",
        "  O parâmetro preenchimento determina o valor a ser preenchido nas linhas selecionadas.'''\n",
        "\n",
        "  df.loc[df[coluna_df].str.contains(pesquisa),nova_coluna] = preechimento\n",
        "  return df"
      ],
      "metadata": {
        "id": "CzzJdMLCG5AL"
      },
      "execution_count": 77,
      "outputs": []
    },
    {
      "cell_type": "code",
      "source": [
        "df = leitura_data('/content/drive/MyDrive/Tramento_Dados/Rua_Timbiras.xlsx','index')\n",
        "df = limpa_tipo(df,'tipo')\n",
        "df['endereco'] = df['endereco'].astype(str).apply(extrair_endereco)\n",
        "df = separa_horarios(df)"
      ],
      "metadata": {
        "id": "q3S6jQC25zfP"
      },
      "execution_count": 118,
      "outputs": []
    },
    {
      "cell_type": "code",
      "source": [
        "df =  extrair(df,'endereco','Rua dos Timbiras','Rua','Rua dos Timbiras')"
      ],
      "metadata": {
        "id": "iEr8CL8o90UN"
      },
      "execution_count": 119,
      "outputs": []
    },
    {
      "cell_type": "code",
      "source": [
        "lista_bairro = ['Centro','Funcionários','Savassi','Boa Viagem']\n",
        "for i, a in enumerate(lista_bairro):\n",
        "  df = extrair(df,'endereco',lista_bairro[i],'Bairro',a)"
      ],
      "metadata": {
        "id": "5ERujYCq_FVn"
      },
      "execution_count": 120,
      "outputs": []
    },
    {
      "cell_type": "code",
      "source": [
        "df =  extrair(df,'endereco','Belo Horizonte','Cidade','Belo Horizonte')"
      ],
      "metadata": {
        "id": "cd4JLusZAbg_"
      },
      "execution_count": 121,
      "outputs": []
    },
    {
      "cell_type": "code",
      "source": [
        "list_cep = ['30130-170','30140-064','30140-060','30130-180','30140-061']\n",
        "for  index, cep in enumerate(list_cep):\n",
        "  df =  extrair(df,'endereco',cep,'CEP',cep)"
      ],
      "metadata": {
        "id": "Onv3jyTjBjvH"
      },
      "execution_count": 122,
      "outputs": []
    },
    {
      "cell_type": "code",
      "source": [
        "salva(df,'Timbiras.xlsx')"
      ],
      "metadata": {
        "id": "brEl0v2b7haE"
      },
      "execution_count": 123,
      "outputs": []
    },
    {
      "cell_type": "code",
      "source": [
        "df"
      ],
      "metadata": {
        "id": "3X74N7zvEx9Z"
      },
      "execution_count": null,
      "outputs": []
    }
  ]
}